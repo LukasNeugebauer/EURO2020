{
 "cells": [
  {
   "cell_type": "markdown",
   "metadata": {},
   "source": [
    "# Dixon Coles Model, no time dependence\n",
    "\n",
    "The time dependence of the full model is hard to implement, so this one has the tau correction term."
   ]
  },
  {
   "cell_type": "code",
   "execution_count": 235,
   "metadata": {},
   "outputs": [],
   "source": [
    "from modeling import *\n",
    "from plotting import *\n",
    "from predictions import predict_outcomes_dixon_coles, predict_outcomes_dixon_coles_et\n",
    "from data import get_data, cut_data\n",
    "import arviz as az\n",
    "from arviz import hdi\n",
    "import pickle\n",
    "import seaborn as sns\n",
    "import matplotlib.patheffects as PathEffects\n",
    "import matplotlib.pyplot as plt\n",
    "from scipy.stats import poisson\n",
    "import pandas as pd\n",
    "from itertools import product\n",
    "from pystan import check_hmc_diagnostics\n",
    "#from pystan.experimental import unpickle_fit\n",
    "from collections import defaultdict"
   ]
  },
  {
   "cell_type": "code",
   "execution_count": 3,
   "metadata": {},
   "outputs": [],
   "source": [
    "import multiprocessing\n",
    "multiprocessing.set_start_method(\"fork\")"
   ]
  },
  {
   "cell_type": "code",
   "execution_count": 69,
   "metadata": {},
   "outputs": [
    {
     "data": {
      "text/html": [
       "<div>\n",
       "<style scoped>\n",
       "    .dataframe tbody tr th:only-of-type {\n",
       "        vertical-align: middle;\n",
       "    }\n",
       "\n",
       "    .dataframe tbody tr th {\n",
       "        vertical-align: top;\n",
       "    }\n",
       "\n",
       "    .dataframe thead th {\n",
       "        text-align: right;\n",
       "    }\n",
       "</style>\n",
       "<table border=\"1\" class=\"dataframe\">\n",
       "  <thead>\n",
       "    <tr style=\"text-align: right;\">\n",
       "      <th></th>\n",
       "      <th>home_team</th>\n",
       "      <th>away_team</th>\n",
       "      <th>home_score</th>\n",
       "      <th>away_score</th>\n",
       "      <th>country</th>\n",
       "      <th>neutral</th>\n",
       "    </tr>\n",
       "    <tr>\n",
       "      <th>date</th>\n",
       "      <th></th>\n",
       "      <th></th>\n",
       "      <th></th>\n",
       "      <th></th>\n",
       "      <th></th>\n",
       "      <th></th>\n",
       "    </tr>\n",
       "  </thead>\n",
       "  <tbody>\n",
       "    <tr>\n",
       "      <th>2018-01-02</th>\n",
       "      <td>Iraq</td>\n",
       "      <td>United Arab Emirates</td>\n",
       "      <td>0.0</td>\n",
       "      <td>0.0</td>\n",
       "      <td>Kuwait</td>\n",
       "      <td>True</td>\n",
       "    </tr>\n",
       "    <tr>\n",
       "      <th>2018-01-02</th>\n",
       "      <td>Oman</td>\n",
       "      <td>Bahrain</td>\n",
       "      <td>1.0</td>\n",
       "      <td>0.0</td>\n",
       "      <td>Kuwait</td>\n",
       "      <td>True</td>\n",
       "    </tr>\n",
       "    <tr>\n",
       "      <th>2018-01-05</th>\n",
       "      <td>Oman</td>\n",
       "      <td>United Arab Emirates</td>\n",
       "      <td>0.0</td>\n",
       "      <td>0.0</td>\n",
       "      <td>Kuwait</td>\n",
       "      <td>True</td>\n",
       "    </tr>\n",
       "    <tr>\n",
       "      <th>2018-01-07</th>\n",
       "      <td>Estonia</td>\n",
       "      <td>Sweden</td>\n",
       "      <td>1.0</td>\n",
       "      <td>1.0</td>\n",
       "      <td>United Arab Emirates</td>\n",
       "      <td>True</td>\n",
       "    </tr>\n",
       "    <tr>\n",
       "      <th>2018-01-11</th>\n",
       "      <td>Denmark</td>\n",
       "      <td>Sweden</td>\n",
       "      <td>0.0</td>\n",
       "      <td>1.0</td>\n",
       "      <td>United Arab Emirates</td>\n",
       "      <td>True</td>\n",
       "    </tr>\n",
       "  </tbody>\n",
       "</table>\n",
       "</div>"
      ],
      "text/plain": [
       "           home_team             away_team  home_score  away_score  \\\n",
       "date                                                                 \n",
       "2018-01-02      Iraq  United Arab Emirates         0.0         0.0   \n",
       "2018-01-02      Oman               Bahrain         1.0         0.0   \n",
       "2018-01-05      Oman  United Arab Emirates         0.0         0.0   \n",
       "2018-01-07   Estonia                Sweden         1.0         1.0   \n",
       "2018-01-11   Denmark                Sweden         0.0         1.0   \n",
       "\n",
       "                         country  neutral  \n",
       "date                                       \n",
       "2018-01-02                Kuwait     True  \n",
       "2018-01-02                Kuwait     True  \n",
       "2018-01-05                Kuwait     True  \n",
       "2018-01-07  United Arab Emirates     True  \n",
       "2018-01-11  United Arab Emirates     True  "
      ]
     },
     "execution_count": 69,
     "metadata": {},
     "output_type": "execute_result"
    }
   ],
   "source": [
    "data.head()"
   ]
  },
  {
   "cell_type": "code",
   "execution_count": 4,
   "metadata": {},
   "outputs": [
    {
     "name": "stderr",
     "output_type": "stream",
     "text": [
      "INFO:pystan:COMPILING THE C++ CODE FOR MODEL anon_model_1bcda930bbc60ce53d8b16331954b2e2 NOW.\n",
      "ld: warning: duplicate -rpath '/Users/l.neugebauer/.pyenv/versions/3.9.18/lib' ignored\n"
     ]
    }
   ],
   "source": [
    "model = compile_or_load('stan/dixon_coles_no_td.stan', extra_compile_args=[\"-w\"], force=True)"
   ]
  },
  {
   "cell_type": "code",
   "execution_count": 43,
   "metadata": {},
   "outputs": [],
   "source": [
    "data = cut_data(get_data(), '2018-01-01')\n",
    "stan_data = prepare_stan_data(data)\n",
    "countries = get_country_list(data)"
   ]
  },
  {
   "cell_type": "code",
   "execution_count": 44,
   "metadata": {},
   "outputs": [
    {
     "name": "stdout",
     "output_type": "stream",
     "text": [
      "\n",
      "Gradient evaluation took 0.003544 seconds\n",
      "1000 transitions using 10 leapfrog steps per transition would take 35.44 seconds.\n",
      "Adjust your expectations accordingly!\n",
      "\n",
      "\n",
      "\n",
      "Gradient evaluation took 0.004066 seconds\n",
      "1000 transitions using 10 leapfrog steps per transition would take 40.66 seconds.\n",
      "Adjust your expectations accordingly!\n",
      "\n",
      "\n",
      "\n",
      "Gradient evaluation took 0.003823 seconds\n",
      "1000 transitions using 10 leapfrog steps per transition would take 38.23 seconds.\n",
      "Adjust your expectations accordingly!\n",
      "\n",
      "\n",
      "\n",
      "Gradient evaluation took 0.00381 seconds\n",
      "1000 transitions using 10 leapfrog steps per transition would take 38.1 seconds.\n",
      "Adjust your expectations accordingly!\n",
      "\n",
      "\n",
      "Iteration:    1 / 3000 [  0%]  (Warmup)\n",
      "Iteration:    1 / 3000 [  0%]  (Warmup)\n",
      "Iteration:    1 / 3000 [  0%]  (Warmup)\n",
      "Iteration:    1 / 3000 [  0%]  (Warmup)\n",
      "Iteration:  300 / 3000 [ 10%]  (Warmup)\n",
      "Iteration:  300 / 3000 [ 10%]  (Warmup)\n",
      "Iteration:  300 / 3000 [ 10%]  (Warmup)\n",
      "Iteration:  300 / 3000 [ 10%]  (Warmup)\n",
      "Iteration:  600 / 3000 [ 20%]  (Warmup)\n",
      "Iteration:  600 / 3000 [ 20%]  (Warmup)\n",
      "Iteration:  600 / 3000 [ 20%]  (Warmup)\n",
      "Iteration:  600 / 3000 [ 20%]  (Warmup)\n",
      "Iteration:  900 / 3000 [ 30%]  (Warmup)\n",
      "Iteration:  900 / 3000 [ 30%]  (Warmup)\n",
      "Iteration:  900 / 3000 [ 30%]  (Warmup)\n",
      "Iteration:  900 / 3000 [ 30%]  (Warmup)\n",
      "Iteration: 1200 / 3000 [ 40%]  (Warmup)\n",
      "Iteration: 1200 / 3000 [ 40%]  (Warmup)\n",
      "Iteration: 1200 / 3000 [ 40%]  (Warmup)\n",
      "Iteration: 1500 / 3000 [ 50%]  (Warmup)\n",
      "Iteration: 1501 / 3000 [ 50%]  (Sampling)\n",
      "Iteration: 1500 / 3000 [ 50%]  (Warmup)\n",
      "Iteration: 1501 / 3000 [ 50%]  (Sampling)\n",
      "Iteration: 1200 / 3000 [ 40%]  (Warmup)\n",
      "Iteration: 1500 / 3000 [ 50%]  (Warmup)\n",
      "Iteration: 1501 / 3000 [ 50%]  (Sampling)\n",
      "Iteration: 1800 / 3000 [ 60%]  (Sampling)\n",
      "Iteration: 1500 / 3000 [ 50%]  (Warmup)\n",
      "Iteration: 1501 / 3000 [ 50%]  (Sampling)\n",
      "Iteration: 1800 / 3000 [ 60%]  (Sampling)\n",
      "Iteration: 1800 / 3000 [ 60%]  (Sampling)\n",
      "Iteration: 2100 / 3000 [ 70%]  (Sampling)\n",
      "Iteration: 1800 / 3000 [ 60%]  (Sampling)\n",
      "Iteration: 2400 / 3000 [ 80%]  (Sampling)\n",
      "Iteration: 2100 / 3000 [ 70%]  (Sampling)\n",
      "Iteration: 2100 / 3000 [ 70%]  (Sampling)\n",
      "Iteration: 2100 / 3000 [ 70%]  (Sampling)\n",
      "Iteration: 2700 / 3000 [ 90%]  (Sampling)\n",
      "Iteration: 2400 / 3000 [ 80%]  (Sampling)\n",
      "Iteration: 3000 / 3000 [100%]  (Sampling)\n",
      "\n",
      " Elapsed Time: 224.332 seconds (Warm-up)\n",
      "               120.342 seconds (Sampling)\n",
      "               344.674 seconds (Total)\n",
      "\n",
      "Iteration: 2700 / 3000 [ 90%]  (Sampling)\n",
      "Iteration: 2400 / 3000 [ 80%]  (Sampling)\n",
      "Iteration: 2400 / 3000 [ 80%]  (Sampling)\n",
      "Iteration: 3000 / 3000 [100%]  (Sampling)\n",
      "\n",
      " Elapsed Time: 249.449 seconds (Warm-up)\n",
      "               120.591 seconds (Sampling)\n",
      "               370.04 seconds (Total)\n",
      "\n",
      "Iteration: 2700 / 3000 [ 90%]  (Sampling)\n",
      "Iteration: 2700 / 3000 [ 90%]  (Sampling)\n",
      "Iteration: 3000 / 3000 [100%]  (Sampling)\n",
      "\n",
      " Elapsed Time: 209.932 seconds (Warm-up)\n",
      "               235.463 seconds (Sampling)\n",
      "               445.394 seconds (Total)\n",
      "\n",
      "Iteration: 3000 / 3000 [100%]  (Sampling)\n",
      "\n",
      " Elapsed Time: 209.811 seconds (Warm-up)\n",
      "               236.834 seconds (Sampling)\n",
      "               446.645 seconds (Total)\n",
      "\n"
     ]
    },
    {
     "name": "stderr",
     "output_type": "stream",
     "text": [
      "WARNING:pystan:Maximum (flat) parameter count (1000) exceeded: skipping diagnostic tests for n_eff and Rhat.\n",
      "To run all diagnostics call pystan.check_hmc_diagnostics(fit)\n"
     ]
    }
   ],
   "source": [
    "fit = model.sampling(stan_data, iter=3000) #, control={'max_treedepth': 12})"
   ]
  },
  {
   "cell_type": "code",
   "execution_count": 45,
   "metadata": {},
   "outputs": [],
   "source": [
    "chains = fit.extract()"
   ]
  },
  {
   "cell_type": "code",
   "execution_count": 46,
   "metadata": {},
   "outputs": [
    {
     "data": {
      "text/plain": [
       "{'n_eff': True,\n",
       " 'Rhat': True,\n",
       " 'divergence': True,\n",
       " 'treedepth': True,\n",
       " 'energy': True}"
      ]
     },
     "execution_count": 46,
     "metadata": {},
     "output_type": "execute_result"
    }
   ],
   "source": [
    "check_hmc_diagnostics(fit)"
   ]
  },
  {
   "cell_type": "code",
   "execution_count": 48,
   "metadata": {},
   "outputs": [],
   "source": [
    "home_advantage = chains['home_advantage']\n",
    "intercept = chains['intercept']\n",
    "rho = chains['rho']"
   ]
  },
  {
   "cell_type": "code",
   "execution_count": 70,
   "metadata": {},
   "outputs": [],
   "source": [
    "day1_matches = pd.read_csv(\"matches/EURO_2024/pre_day_1.csv\")"
   ]
  },
  {
   "cell_type": "code",
   "execution_count": 71,
   "metadata": {},
   "outputs": [
    {
     "name": "stdout",
     "output_type": "stream",
     "text": [
      "Germany Scotland 2 0\n",
      "Hungary Switzerland 0 1\n",
      "Spain Croatia 1 0\n",
      "Italy Albania 1 0\n",
      "Poland Netherlands 0 1\n",
      "Slovenia Denmark 0 1\n",
      "Serbia England 0 1\n",
      "Romania Ukraine 0 1\n",
      "Belgium Slovakia 2 0\n",
      "Austria France 0 1\n",
      "Turkey Georgia 1 1\n",
      "Portugal Czech Republic 1 0\n"
     ]
    }
   ],
   "source": [
    "for _, match in day1_matches.iterrows():\n",
    "    home_team = match.home_team\n",
    "    away_team = match.away_team\n",
    "    home_idx = countries.index(match.home_team)\n",
    "    away_idx = countries.index(match.away_team)\n",
    "    location = match.location\n",
    "    attack_home = chains[\"attack\"][:, home_idx]\n",
    "    attack_away = chains[\"attack\"][:, away_idx]\n",
    "    defense_home = chains[\"defense\"][:, home_idx]\n",
    "    defense_away = chains[\"defense\"][:, away_idx]\n",
    "    A = predict_outcomes_dixon_coles(\n",
    "        attack_home=attack_home,\n",
    "        attack_away=attack_away,\n",
    "        defense_home=defense_home,\n",
    "        defense_away=defense_away,\n",
    "        intercept=intercept,\n",
    "        home_advantage=home_advantage,\n",
    "        rho=rho,\n",
    "        home_team=home_team,\n",
    "        away_team=away_team,\n",
    "        location=location\n",
    "    )\n",
    "    home_goals, away_goals = np.unravel_index(A.argmax(), A.shape)\n",
    "    print(home_team, away_team, home_goals, away_goals)"
   ]
  },
  {
   "cell_type": "code",
   "execution_count": 72,
   "metadata": {},
   "outputs": [],
   "source": [
    "day2_matches = pd.read_csv(\"matches/EURO_2024/pre_day_2.csv\")"
   ]
  },
  {
   "cell_type": "code",
   "execution_count": 73,
   "metadata": {},
   "outputs": [
    {
     "name": "stdout",
     "output_type": "stream",
     "text": [
      "Croatia Albania 1 0\n",
      "Germany Hungary 2 0\n",
      "Scotland Switzerland 0 1\n",
      "Slovenia Serbia 0 1\n",
      "Denmark England 0 1\n",
      "Spain Italy 1 0\n",
      "Slovakia Ukraine 0 1\n",
      "Poland Austria 1 1\n",
      "Netherlands France 1 1\n",
      "Georgia Czech Republic 0 1\n",
      "Turkey Portugal 0 2\n",
      "Belgium Romania 1 0\n"
     ]
    }
   ],
   "source": [
    "for _, match in day2_matches.iterrows():\n",
    "    home_team = match.home_team\n",
    "    away_team = match.away_team\n",
    "    home_idx = countries.index(match.home_team)\n",
    "    away_idx = countries.index(match.away_team)\n",
    "    location = match.location\n",
    "    attack_home = chains[\"attack\"][:, home_idx]\n",
    "    attack_away = chains[\"attack\"][:, away_idx]\n",
    "    defense_home = chains[\"defense\"][:, home_idx]\n",
    "    defense_away = chains[\"defense\"][:, away_idx]\n",
    "    A = predict_outcomes_dixon_coles(\n",
    "        attack_home=attack_home,\n",
    "        attack_away=attack_away,\n",
    "        defense_home=defense_home,\n",
    "        defense_away=defense_away,\n",
    "        intercept=intercept,\n",
    "        home_advantage=home_advantage,\n",
    "        rho=rho,\n",
    "        home_team=home_team,\n",
    "        away_team=away_team,\n",
    "        location=location\n",
    "    )\n",
    "    home_goals, away_goals = np.unravel_index(A.argmax(), A.shape)\n",
    "    print(home_team, away_team, home_goals, away_goals)"
   ]
  },
  {
   "cell_type": "code",
   "execution_count": 74,
   "metadata": {},
   "outputs": [],
   "source": [
    "day3_matches = pd.read_csv(\"matches/EURO_2024/pre_day_3.csv\")"
   ]
  },
  {
   "cell_type": "code",
   "execution_count": 75,
   "metadata": {},
   "outputs": [
    {
     "name": "stdout",
     "output_type": "stream",
     "text": [
      "Switzerland Germany 1 1\n",
      "Scotland Hungary 0 0\n",
      "Albania Spain 0 2\n",
      "Croatia Italy 0 1\n",
      "France Poland 1 0\n",
      "Netherlands Austria 1 0\n",
      "Denmark Serbia 1 0\n",
      "England Slovenia 1 0\n",
      "Slovakia Romania 1 1\n",
      "Ukraine Belgium 0 1\n",
      "Georgia Portugal 0 2\n",
      "Czech Republic Turkey 1 1\n"
     ]
    }
   ],
   "source": [
    "for _, match in day3_matches.iterrows():\n",
    "    home_team = match.home_team\n",
    "    away_team = match.away_team\n",
    "    home_idx = countries.index(match.home_team)\n",
    "    away_idx = countries.index(match.away_team)\n",
    "    location = match.location\n",
    "    attack_home = chains[\"attack\"][:, home_idx]\n",
    "    attack_away = chains[\"attack\"][:, away_idx]\n",
    "    defense_home = chains[\"defense\"][:, home_idx]\n",
    "    defense_away = chains[\"defense\"][:, away_idx]\n",
    "    A = predict_outcomes_dixon_coles(\n",
    "        attack_home=attack_home,\n",
    "        attack_away=attack_away,\n",
    "        defense_home=defense_home,\n",
    "        defense_away=defense_away,\n",
    "        intercept=intercept,\n",
    "        home_advantage=home_advantage,\n",
    "        rho=rho,\n",
    "        home_team=home_team,\n",
    "        away_team=away_team,\n",
    "        location=location\n",
    "    )\n",
    "    home_goals, away_goals = np.unravel_index(A.argmax(), A.shape)\n",
    "    print(home_team, away_team, home_goals, away_goals)"
   ]
  },
  {
   "cell_type": "code",
   "execution_count": 76,
   "metadata": {},
   "outputs": [],
   "source": [
    "all_countries = set(day1_matches.home_team) | set(day2_matches.home_team) | set(day3_matches.home_team)"
   ]
  },
  {
   "cell_type": "code",
   "execution_count": 78,
   "metadata": {},
   "outputs": [
    {
     "data": {
      "text/plain": [
       "['Turkey']"
      ]
     },
     "execution_count": 78,
     "metadata": {},
     "output_type": "execute_result"
    }
   ],
   "source": [
    "list(filter(lambda x: x.startswith(\"T\"), all_countries))"
   ]
  },
  {
   "cell_type": "code",
   "execution_count": 79,
   "metadata": {},
   "outputs": [],
   "source": [
    "groups = {\n",
    "    \"A\": [\n",
    "        \"Germany\",\n",
    "        \"Scotland\",\n",
    "        \"Hungary\",\n",
    "        \"Switzerland\"\n",
    "    ],\n",
    "    \"B\": [\n",
    "        \"Spain\",\n",
    "        \"Croatia\",\n",
    "        \"Italy\",\n",
    "        \"Albania\"\n",
    "    ],\n",
    "    \"C\": [\n",
    "        \"Slovenia\",\n",
    "        \"Denmark\",\n",
    "        \"Serbia\",\n",
    "        \"England\"\n",
    "    ],\n",
    "    \"D\": [\n",
    "        \"Netherlands\",\n",
    "        \"France\",\n",
    "        \"Poland\",\n",
    "        \"Austria\"\n",
    "    ],\n",
    "    \"E\": [\n",
    "        \"Ukraine\",\n",
    "        \"Slovakia\",\n",
    "        \"Belgium\",\n",
    "        \"Romania\"\n",
    "    ],\n",
    "    \"F\": [\n",
    "        \"Portugal\",\n",
    "        \"Czech Republic\",\n",
    "        \"Georgia\",\n",
    "        \"Turkey\"\n",
    "    ]\n",
    "}"
   ]
  },
  {
   "cell_type": "code",
   "execution_count": 117,
   "metadata": {},
   "outputs": [],
   "source": [
    "def predict_outcome_matrix(\n",
    "    home_team, \n",
    "    away_team,\n",
    "    all_countries,\n",
    "    chains\n",
    "):\n",
    "    home_team = home_team\n",
    "    away_team = away_team\n",
    "    home_idx = countries.index(home_team)\n",
    "    away_idx = countries.index(away_team)\n",
    "    location = \"Germany\"\n",
    "    attack_home = chains[\"attack\"][:, home_idx]\n",
    "    attack_away = chains[\"attack\"][:, away_idx]\n",
    "    defense_home = chains[\"defense\"][:, home_idx]\n",
    "    defense_away = chains[\"defense\"][:, away_idx]\n",
    "    home_advantage = chains[\"home_advantage\"]\n",
    "    intercept = chains['intercept']\n",
    "    rho = chains['rho']\n",
    "    A = predict_outcomes_dixon_coles(\n",
    "        attack_home=attack_home,\n",
    "        attack_away=attack_away,\n",
    "        defense_home=defense_home,\n",
    "        defense_away=defense_away,\n",
    "        intercept=intercept,\n",
    "        home_advantage=home_advantage,\n",
    "        rho=rho,\n",
    "        home_team=home_team,\n",
    "        away_team=away_team,\n",
    "        location=location\n",
    "    )\n",
    "    return A"
   ]
  },
  {
   "cell_type": "code",
   "execution_count": 118,
   "metadata": {},
   "outputs": [],
   "source": [
    "def get_most_likely_outcome(\n",
    "    home_team,\n",
    "    away_team,\n",
    "    all_countries,\n",
    "    chains\n",
    "):\n",
    "    A = predict_outcome_matrix(\n",
    "        home_team=home_team,\n",
    "        away_team=away_team,\n",
    "        chains=chains,\n",
    "        all_countries=all_countries\n",
    "    )\n",
    "    home_goals, away_goals = np.unravel_index(A.argmax(), A.shape)\n",
    "    return home_goals, away_goals"
   ]
  },
  {
   "cell_type": "code",
   "execution_count": 82,
   "metadata": {},
   "outputs": [],
   "source": [
    "from itertools import combinations\n",
    "from collections import defaultdict"
   ]
  },
  {
   "cell_type": "code",
   "execution_count": 88,
   "metadata": {},
   "outputs": [
    {
     "data": {
      "text/plain": [
       "{'A': defaultdict(int, {})}"
      ]
     },
     "execution_count": 88,
     "metadata": {},
     "output_type": "execute_result"
    }
   ],
   "source": [
    "points"
   ]
  },
  {
   "cell_type": "code",
   "execution_count": 253,
   "metadata": {},
   "outputs": [
    {
     "name": "stdout",
     "output_type": "stream",
     "text": [
      "A\n",
      "Germany Scotland 2 0\n",
      "Germany Hungary 2 0\n",
      "Germany Switzerland 1 1\n",
      "Scotland Hungary 0 0\n",
      "Scotland Switzerland 0 1\n",
      "Hungary Switzerland 0 1\n",
      "B\n",
      "Spain Croatia 1 0\n",
      "Spain Italy 1 0\n",
      "Spain Albania 2 0\n",
      "Croatia Italy 0 1\n",
      "Croatia Albania 1 0\n",
      "Italy Albania 1 0\n",
      "C\n",
      "Slovenia Denmark 0 1\n",
      "Slovenia Serbia 0 1\n",
      "Slovenia England 0 1\n",
      "Denmark Serbia 1 0\n",
      "Denmark England 0 1\n",
      "Serbia England 0 1\n",
      "D\n",
      "Netherlands France 1 1\n",
      "Netherlands Poland 1 0\n",
      "Netherlands Austria 1 0\n",
      "France Poland 1 0\n",
      "France Austria 1 0\n",
      "Poland Austria 1 1\n",
      "E\n",
      "Ukraine Slovakia 1 0\n",
      "Ukraine Belgium 0 1\n",
      "Ukraine Romania 1 0\n",
      "Slovakia Belgium 0 2\n",
      "Slovakia Romania 1 1\n",
      "Belgium Romania 1 0\n",
      "F\n",
      "Portugal Czech Republic 1 0\n",
      "Portugal Georgia 2 0\n",
      "Portugal Turkey 2 0\n",
      "Czech Republic Georgia 1 0\n",
      "Czech Republic Turkey 1 1\n",
      "Georgia Turkey 1 1\n"
     ]
    }
   ],
   "source": [
    "points = {}\n",
    "goals_made = {}\n",
    "goals_received = {}\n",
    "for group, members in groups.items():\n",
    "    print(group)\n",
    "    group_points = defaultdict(int)\n",
    "    group_goals_made = defaultdict(int)\n",
    "    group_goals_received = defaultdict(int)\n",
    "    group_matches = combinations(members, 2)\n",
    "    for home_team, away_team in group_matches:\n",
    "        home_goals, away_goals = get_most_likely_outcome(\n",
    "            home_team=home_team,\n",
    "            away_team=away_team,\n",
    "            all_countries=all_countries,\n",
    "            chains=chains\n",
    "        )\n",
    "        print(home_team, away_team, home_goals, away_goals)\n",
    "        group_goals_made[home_team] += home_goals\n",
    "        group_goals_made[away_team] += away_goals\n",
    "        group_goals_received[home_team] += away_goals\n",
    "        group_goals_received[away_team] += home_goals\n",
    "        if home_goals > away_goals:\n",
    "            group_points[home_team] += 3\n",
    "            group_points[away_team] += 0\n",
    "        elif away_goals > home_goals:\n",
    "            group_points[home_team] += 0\n",
    "            group_points[away_team] += 3\n",
    "        else:\n",
    "            group_points[home_team] += 1\n",
    "            group_points[away_team] += 1\n",
    "    points[group] = group_points\n",
    "    goals_made[group] = group_goals_made\n",
    "    goals_received[group] = group_goals_received"
   ]
  },
  {
   "cell_type": "code",
   "execution_count": 220,
   "metadata": {},
   "outputs": [],
   "source": [
    "group_dfs = {}\n",
    "for group in groups.keys():\n",
    "    df = pd.DataFrame(\n",
    "        {\n",
    "            \"group\": group,\n",
    "            \"points\": points[group], \n",
    "            \"goals_made\": goals_made[group], \n",
    "            \"goals_received\": goals_received[group]\n",
    "        }\n",
    "    )\n",
    "    df[\"goal_diff\"] = df.goals_made - df.goals_received\n",
    "    df = df.sort_values(by=[\"points\", \"goal_diff\", \"goals_made\"], ascending=False)\n",
    "    group_dfs[group] = df\n",
    "thirds = pd.concat([df.iloc[[2]] for df in group_dfs.values()], axis=0)"
   ]
  },
  {
   "cell_type": "code",
   "execution_count": 222,
   "metadata": {},
   "outputs": [
    {
     "data": {
      "text/plain": [
       "{'A':             group  points  goals_made  goals_received  goal_diff\n",
       " Germany         A       7           5               1          4\n",
       " Switzerland     A       7           3               1          2\n",
       " Scotland        A       1           0               3         -3\n",
       " Hungary         A       1           0               3         -3,\n",
       " 'B':         group  points  goals_made  goals_received  goal_diff\n",
       " Spain       B       9           4               0          4\n",
       " Italy       B       6           2               1          1\n",
       " Croatia     B       3           1               2         -1\n",
       " Albania     B       0           0               4         -4,\n",
       " 'C':          group  points  goals_made  goals_received  goal_diff\n",
       " England      C       9           3               0          3\n",
       " Denmark      C       6           2               1          1\n",
       " Serbia       C       3           1               2         -1\n",
       " Slovenia     C       0           0               3         -3,\n",
       " 'D':             group  points  goals_made  goals_received  goal_diff\n",
       " Netherlands     D       7           3               1          2\n",
       " France          D       7           3               1          2\n",
       " Poland          D       1           1               3         -2\n",
       " Austria         D       1           1               3         -2,\n",
       " 'E':          group  points  goals_made  goals_received  goal_diff\n",
       " Belgium      E       9           4               0          4\n",
       " Ukraine      E       6           2               1          1\n",
       " Romania      E       1           1               3         -2\n",
       " Slovakia     E       1           1               4         -3,\n",
       " 'F':                group  points  goals_made  goals_received  goal_diff\n",
       " Portugal           F       9           5               0          5\n",
       " Czech Republic     F       4           2               2          0\n",
       " Turkey             F       2           2               4         -2\n",
       " Georgia            F       1           1               4         -3}"
      ]
     },
     "execution_count": 222,
     "metadata": {},
     "output_type": "execute_result"
    }
   ],
   "source": [
    "group_dfs"
   ]
  },
  {
   "cell_type": "code",
   "execution_count": 223,
   "metadata": {},
   "outputs": [
    {
     "data": {
      "text/html": [
       "<div>\n",
       "<style scoped>\n",
       "    .dataframe tbody tr th:only-of-type {\n",
       "        vertical-align: middle;\n",
       "    }\n",
       "\n",
       "    .dataframe tbody tr th {\n",
       "        vertical-align: top;\n",
       "    }\n",
       "\n",
       "    .dataframe thead th {\n",
       "        text-align: right;\n",
       "    }\n",
       "</style>\n",
       "<table border=\"1\" class=\"dataframe\">\n",
       "  <thead>\n",
       "    <tr style=\"text-align: right;\">\n",
       "      <th></th>\n",
       "      <th>group</th>\n",
       "      <th>points</th>\n",
       "      <th>goals_made</th>\n",
       "      <th>goals_received</th>\n",
       "      <th>goal_diff</th>\n",
       "    </tr>\n",
       "  </thead>\n",
       "  <tbody>\n",
       "    <tr>\n",
       "      <th>Croatia</th>\n",
       "      <td>B</td>\n",
       "      <td>3</td>\n",
       "      <td>1</td>\n",
       "      <td>2</td>\n",
       "      <td>-1</td>\n",
       "    </tr>\n",
       "    <tr>\n",
       "      <th>Serbia</th>\n",
       "      <td>C</td>\n",
       "      <td>3</td>\n",
       "      <td>1</td>\n",
       "      <td>2</td>\n",
       "      <td>-1</td>\n",
       "    </tr>\n",
       "    <tr>\n",
       "      <th>Turkey</th>\n",
       "      <td>F</td>\n",
       "      <td>2</td>\n",
       "      <td>2</td>\n",
       "      <td>4</td>\n",
       "      <td>-2</td>\n",
       "    </tr>\n",
       "    <tr>\n",
       "      <th>Poland</th>\n",
       "      <td>D</td>\n",
       "      <td>1</td>\n",
       "      <td>1</td>\n",
       "      <td>3</td>\n",
       "      <td>-2</td>\n",
       "    </tr>\n",
       "    <tr>\n",
       "      <th>Romania</th>\n",
       "      <td>E</td>\n",
       "      <td>1</td>\n",
       "      <td>1</td>\n",
       "      <td>3</td>\n",
       "      <td>-2</td>\n",
       "    </tr>\n",
       "    <tr>\n",
       "      <th>Scotland</th>\n",
       "      <td>A</td>\n",
       "      <td>1</td>\n",
       "      <td>0</td>\n",
       "      <td>3</td>\n",
       "      <td>-3</td>\n",
       "    </tr>\n",
       "  </tbody>\n",
       "</table>\n",
       "</div>"
      ],
      "text/plain": [
       "         group  points  goals_made  goals_received  goal_diff\n",
       "Croatia      B       3           1               2         -1\n",
       "Serbia       C       3           1               2         -1\n",
       "Turkey       F       2           2               4         -2\n",
       "Poland       D       1           1               3         -2\n",
       "Romania      E       1           1               3         -2\n",
       "Scotland     A       1           0               3         -3"
      ]
     },
     "execution_count": 223,
     "metadata": {},
     "output_type": "execute_result"
    }
   ],
   "source": [
    "thirds.sort_values(by=[\"points\", \"goal_diff\", \"goals_made\"], ascending=False)"
   ]
  },
  {
   "cell_type": "code",
   "execution_count": 227,
   "metadata": {},
   "outputs": [],
   "source": [
    "round_of_sixteen_games = [\n",
    "    (group_dfs[\"B\"].index[0], \"Poland\"),\n",
    "    (group_dfs[\"A\"].index[0], group_dfs[\"C\"].index[1]),\n",
    "    (group_dfs[\"F\"].index[0], \"Croatia\"),\n",
    "    (\"Netherlands\", group_dfs[\"E\"].index[1]),    \n",
    "    (group_dfs[\"E\"].index[0], \"Serbia\"),\n",
    "    (\"France\", group_dfs[\"F\"].index[1]),\n",
    "    (group_dfs[\"A\"].index[1], group_dfs[\"B\"].index[1]),\n",
    "    (group_dfs[\"C\"].index[0], \"Turkey\"),\n",
    "]\n",
    "round_of_sixteen_results = {}\n",
    "for i, (home_team, away_team) in enumerate(round_of_sixteen_games):\n",
    "    A = predict_outcome_matrix(home_team, away_team, all_countries, chains)\n",
    "    p_home = np.tril(A, -1).sum()\n",
    "    p_away = np.triu(A, 1).sum()\n",
    "    round_of_sixteen_results[i + 1] = home_team if p_home > p_away else away_team"
   ]
  },
  {
   "cell_type": "code",
   "execution_count": 228,
   "metadata": {},
   "outputs": [
    {
     "data": {
      "text/plain": [
       "{1: 'Spain',\n",
       " 2: 'Germany',\n",
       " 3: 'Portugal',\n",
       " 4: 'Netherlands',\n",
       " 5: 'Belgium',\n",
       " 6: 'France',\n",
       " 7: 'Italy',\n",
       " 8: 'England'}"
      ]
     },
     "execution_count": 228,
     "metadata": {},
     "output_type": "execute_result"
    }
   ],
   "source": [
    "round_of_sixteen_results"
   ]
  },
  {
   "cell_type": "code",
   "execution_count": 229,
   "metadata": {},
   "outputs": [],
   "source": [
    "c = 1\n",
    "quarter_final_results = {}\n",
    "for i in range(1, 9, 2):\n",
    "    home_team = round_of_sixteen_results[i]\n",
    "    away_team = round_of_sixteen_results[i + 1]\n",
    "    A = predict_outcome_matrix(home_team, away_team, all_countries, chains)\n",
    "    p_home = np.tril(A, -1).sum()\n",
    "    p_away = np.triu(A, 1).sum()\n",
    "    quarter_final_results[c] = home_team if p_home > p_away else away_team\n",
    "    c += 1"
   ]
  },
  {
   "cell_type": "code",
   "execution_count": 230,
   "metadata": {},
   "outputs": [],
   "source": [
    "c = 1\n",
    "semi_final_results = {}\n",
    "for i in range(1, 4, 2):\n",
    "    home_team = quarter_final_results[i]\n",
    "    away_team = quarter_final_results[i + 1]\n",
    "    A = predict_outcome_matrix(home_team, away_team, all_countries, chains)\n",
    "    p_home = np.tril(A, -1).sum()\n",
    "    p_away = np.triu(A, 1).sum()\n",
    "    semi_final_results[c] = home_team if p_home > p_away else away_team\n",
    "    c += 1"
   ]
  },
  {
   "cell_type": "code",
   "execution_count": 234,
   "metadata": {},
   "outputs": [
    {
     "data": {
      "text/plain": [
       "{1: 'Spain',\n",
       " 2: 'Germany',\n",
       " 3: 'Portugal',\n",
       " 4: 'Netherlands',\n",
       " 5: 'Belgium',\n",
       " 6: 'France',\n",
       " 7: 'Italy',\n",
       " 8: 'England'}"
      ]
     },
     "execution_count": 234,
     "metadata": {},
     "output_type": "execute_result"
    }
   ],
   "source": [
    "round_of_sixteen_results"
   ]
  },
  {
   "cell_type": "code",
   "execution_count": 231,
   "metadata": {},
   "outputs": [
    {
     "data": {
      "text/plain": [
       "{1: 'Spain', 2: 'Portugal', 3: 'Belgium', 4: 'England'}"
      ]
     },
     "execution_count": 231,
     "metadata": {},
     "output_type": "execute_result"
    }
   ],
   "source": [
    "quarter_final_results"
   ]
  },
  {
   "cell_type": "code",
   "execution_count": 232,
   "metadata": {},
   "outputs": [
    {
     "data": {
      "text/plain": [
       "{1: 'Spain', 2: 'England'}"
      ]
     },
     "execution_count": 232,
     "metadata": {},
     "output_type": "execute_result"
    }
   ],
   "source": [
    "semi_final_results"
   ]
  },
  {
   "cell_type": "code",
   "execution_count": 233,
   "metadata": {},
   "outputs": [
    {
     "name": "stdout",
     "output_type": "stream",
     "text": [
      "EURO 2024 Winner: Spain\n"
     ]
    }
   ],
   "source": [
    "A = predict_outcome_matrix(\"Spain\", \"Italy\", all_countries, chains)\n",
    "p_home = np.tril(A, -1).sum()\n",
    "p_away = np.triu(A, 1).sum()\n",
    "winner = \"Spain\" if p_home > p_away else \"Italy\"\n",
    "print(\"EURO 2024 Winner: \" + winner)"
   ]
  }
 ],
 "metadata": {
  "kernelspec": {
   "display_name": "Python 3 (ipykernel)",
   "language": "python",
   "name": "python3"
  },
  "language_info": {
   "codemirror_mode": {
    "name": "ipython",
    "version": 3
   },
   "file_extension": ".py",
   "mimetype": "text/x-python",
   "name": "python",
   "nbconvert_exporter": "python",
   "pygments_lexer": "ipython3",
   "version": "3.9.18"
  }
 },
 "nbformat": 4,
 "nbformat_minor": 4
}
